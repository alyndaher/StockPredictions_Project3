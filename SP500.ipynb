{
 "cells": [
  {
   "cell_type": "code",
   "execution_count": 2,
   "metadata": {},
   "outputs": [],
   "source": [
    "%matplotlib inline\n",
    "import matplotlib.pyplot as plt\n",
    "import numpy as np\n",
    "import pandas as pd"
   ]
  },
  {
   "cell_type": "code",
   "execution_count": 6,
   "metadata": {},
   "outputs": [
    {
     "data": {
      "text/plain": [
       "'C:\\\\Users\\\\dofwj\\\\Downloads'"
      ]
     },
     "execution_count": 6,
     "metadata": {},
     "output_type": "execute_result"
    }
   ],
   "source": [
    "import os\n",
    "os.getcwd()"
   ]
  },
  {
   "cell_type": "code",
   "execution_count": 12,
   "metadata": {},
   "outputs": [
    {
     "data": {
      "text/html": [
       "<div>\n",
       "<style scoped>\n",
       "    .dataframe tbody tr th:only-of-type {\n",
       "        vertical-align: middle;\n",
       "    }\n",
       "\n",
       "    .dataframe tbody tr th {\n",
       "        vertical-align: top;\n",
       "    }\n",
       "\n",
       "    .dataframe thead th {\n",
       "        text-align: right;\n",
       "    }\n",
       "</style>\n",
       "<table border=\"1\" class=\"dataframe\">\n",
       "  <thead>\n",
       "    <tr style=\"text-align: right;\">\n",
       "      <th></th>\n",
       "      <th>date</th>\n",
       "      <th>value</th>\n",
       "      <th>datenumber</th>\n",
       "    </tr>\n",
       "  </thead>\n",
       "  <tbody>\n",
       "    <tr>\n",
       "      <th>0</th>\n",
       "      <td>8/15/2007</td>\n",
       "      <td>1406.70</td>\n",
       "      <td>39309</td>\n",
       "    </tr>\n",
       "    <tr>\n",
       "      <th>1</th>\n",
       "      <td>8/16/2007</td>\n",
       "      <td>1411.27</td>\n",
       "      <td>39310</td>\n",
       "    </tr>\n",
       "    <tr>\n",
       "      <th>2</th>\n",
       "      <td>8/17/2007</td>\n",
       "      <td>1445.94</td>\n",
       "      <td>39311</td>\n",
       "    </tr>\n",
       "    <tr>\n",
       "      <th>3</th>\n",
       "      <td>8/20/2007</td>\n",
       "      <td>1445.55</td>\n",
       "      <td>39314</td>\n",
       "    </tr>\n",
       "    <tr>\n",
       "      <th>4</th>\n",
       "      <td>8/21/2007</td>\n",
       "      <td>1447.12</td>\n",
       "      <td>39315</td>\n",
       "    </tr>\n",
       "    <tr>\n",
       "      <th>...</th>\n",
       "      <td>...</td>\n",
       "      <td>...</td>\n",
       "      <td>...</td>\n",
       "    </tr>\n",
       "    <tr>\n",
       "      <th>3270</th>\n",
       "      <td>8/7/2020</td>\n",
       "      <td>3351.28</td>\n",
       "      <td>44050</td>\n",
       "    </tr>\n",
       "    <tr>\n",
       "      <th>3271</th>\n",
       "      <td>8/10/2020</td>\n",
       "      <td>3360.47</td>\n",
       "      <td>44053</td>\n",
       "    </tr>\n",
       "    <tr>\n",
       "      <th>3272</th>\n",
       "      <td>8/11/2020</td>\n",
       "      <td>3333.69</td>\n",
       "      <td>44054</td>\n",
       "    </tr>\n",
       "    <tr>\n",
       "      <th>3273</th>\n",
       "      <td>8/12/2020</td>\n",
       "      <td>3380.35</td>\n",
       "      <td>44055</td>\n",
       "    </tr>\n",
       "    <tr>\n",
       "      <th>3274</th>\n",
       "      <td>8/13/2020</td>\n",
       "      <td>3373.43</td>\n",
       "      <td>44056</td>\n",
       "    </tr>\n",
       "  </tbody>\n",
       "</table>\n",
       "<p>3275 rows × 3 columns</p>\n",
       "</div>"
      ],
      "text/plain": [
       "           date    value  datenumber\n",
       "0     8/15/2007  1406.70       39309\n",
       "1     8/16/2007  1411.27       39310\n",
       "2     8/17/2007  1445.94       39311\n",
       "3     8/20/2007  1445.55       39314\n",
       "4     8/21/2007  1447.12       39315\n",
       "...         ...      ...         ...\n",
       "3270   8/7/2020  3351.28       44050\n",
       "3271  8/10/2020  3360.47       44053\n",
       "3272  8/11/2020  3333.69       44054\n",
       "3273  8/12/2020  3380.35       44055\n",
       "3274  8/13/2020  3373.43       44056\n",
       "\n",
       "[3275 rows x 3 columns]"
      ]
     },
     "execution_count": 12,
     "metadata": {},
     "output_type": "execute_result"
    }
   ],
   "source": [
    "# Read the csv file into a pandas DataFramedate,value,datenumber\n",
    "data = pd.read_csv('SP500_10yearchart.csv')\n",
    "data"
   ]
  },
  {
   "cell_type": "code",
   "execution_count": 77,
   "metadata": {},
   "outputs": [
    {
     "name": "stdout",
     "output_type": "stream",
     "text": [
      "Shape:  (3275, 1) (3275, 1)\n"
     ]
    },
    {
     "data": {
      "text/plain": [
       "array([[39309],\n",
       "       [39310],\n",
       "       [39311],\n",
       "       ...,\n",
       "       [44054],\n",
       "       [44055],\n",
       "       [44056]], dtype=int64)"
      ]
     },
     "execution_count": 77,
     "metadata": {},
     "output_type": "execute_result"
    }
   ],
   "source": [
    "# Assign the data to X and y\n",
    "# Note: Sklearn requires a two-dimensional array of values\n",
    "# so we use reshape to create this\n",
    "\n",
    "X = data.datenumber.values.reshape(-1, 1)\n",
    "y = data.value.values.reshape(-1, 1)\n",
    "\n",
    "print(\"Shape: \", X.shape, y.shape)\n",
    "X"
   ]
  },
  {
   "cell_type": "code",
   "execution_count": 87,
   "metadata": {},
   "outputs": [
    {
     "data": {
      "image/png": "[encoded data removed]",
      "text/plain": [
       "<Figure size 432x288 with 1 Axes>"
      ]
     },
     "metadata": {
      "needs_background": "light"
     },
     "output_type": "display_data"
    }
   ],
   "source": [
    "# Plot the data\n",
    "\n",
    "### BEGIN SOLUTION\n",
    "# x_axis = np.arange(39309, len(X))\n",
    "# ticks = [39309, 39675, 40039, 40406, 40770, 41136, 41501, 41866, 42230, 42597, 42962, 43327, 43692, 44056]\n",
    "# dates = ['8/15/2007', '8/15/2008', '8/14/2009', '8/16/2010', '8/15/2011', '8/15/2012', '8/15/2013', '8/15/2014', '8/14/2015', '8/15/2016', '8/15/2017', '8/15/2018', '8/15/2019', '8/13/2020']\n",
    "# plt.title(\"S&P500 2007-2020\")\n",
    "# plt.xlabel(\"Date\")\n",
    "# plt.ylabel(\"Value in $\")\n",
    "\n",
    "\n",
    "# plt.xticks(rotation=90)\n",
    "# plt.scatter (X, y, c=data.value,)\n",
    "# plt.xticks(ticks, dates)\n",
    "# plt.show()\n",
    "\n",
    "### END SOLUTION"
   ]
  },
  {
   "cell_type": "code",
   "execution_count": null,
   "metadata": {},
   "outputs": [],
   "source": []
  },
  {
   "cell_type": "code",
   "execution_count": 79,
   "metadata": {},
   "outputs": [],
   "source": [
    "# Create the model and fit the model to the data\n",
    "\n",
    "from sklearn.linear_model import LinearRegression\n",
    "\n",
    "### BEGIN SOLUTION\n",
    "\n",
    "model = LinearRegression()\n",
    "\n",
    "### END SOLUTION"
   ]
  },
  {
   "cell_type": "code",
   "execution_count": 80,
   "metadata": {},
   "outputs": [
    {
     "data": {
      "text/plain": [
       "LinearRegression()"
      ]
     },
     "execution_count": 80,
     "metadata": {},
     "output_type": "execute_result"
    }
   ],
   "source": [
    "# Fit the model to the data. \n",
    "# Note: This is the training step where you fit the line to the data.\n",
    "\n",
    "### BEGIN SOLUTION\n",
    "\n",
    "model.fit(X, y)\n",
    "\n",
    "### END SOLUTION"
   ]
  },
  {
   "cell_type": "code",
   "execution_count": 81,
   "metadata": {},
   "outputs": [
    {
     "name": "stdout",
     "output_type": "stream",
     "text": [
      "Weight coefficients:  [[0.4610593]]\n",
      "y-axis intercept:  [-17353.41582294]\n"
     ]
    }
   ],
   "source": [
    "# Print the coefficient and the intercept for the model\n",
    "\n",
    "### BEGIN SOLUTION\n",
    "print('Weight coefficients: ', model.coef_)\n",
    "print('y-axis intercept: ', model.intercept_)\n",
    "### END SOLUTION"
   ]
  },
  {
   "cell_type": "code",
   "execution_count": 82,
   "metadata": {},
   "outputs": [
    {
     "name": "stdout",
     "output_type": "stream",
     "text": [
      "Min X Value: [[39309]]\n",
      "Max X Value: [[44056]]\n"
     ]
    }
   ],
   "source": [
    "# Note: we have to transform our min and max values \n",
    "# so they are in the format: array([[ 1.17]])\n",
    "# This is the required format for `model.predict()`\n",
    "\n",
    "x_min = np.array([[X.min()]])\n",
    "x_max = np.array([[X.max()]])\n",
    "print(f\"Min X Value: {x_min}\")\n",
    "print(f\"Max X Value: {x_max}\")"
   ]
  },
  {
   "cell_type": "code",
   "execution_count": 83,
   "metadata": {},
   "outputs": [],
   "source": [
    "# Calculate the y_min and y_max using model.predict and x_min and x_max\n",
    "\n",
    "### BEGIN SOLUTION\n",
    "y_min = model.predict(x_min)\n",
    "y_max = model.predict(x_max)\n",
    "### END SOLUTION"
   ]
  },
  {
   "cell_type": "code",
   "execution_count": 111,
   "metadata": {},
   "outputs": [],
   "source": [
    "text1 = \"Mean Squared Error : 48886.185\"\n",
    "text2 = \"R-squared : 0.8909\"\n",
    "text3 = \"y-axis intercept: -17353.4158\"\n",
    "text4 = \"Weight coefficients: 0.461\"\n",
    "texts = f\"{text1}\\n{text2}\\n{text3}\\n{text4}\""
   ]
  },
  {
   "cell_type": "code",
   "execution_count": 115,
   "metadata": {},
   "outputs": [
    {
     "data": {
      "text/plain": [
       "[<matplotlib.lines.Line2D at 0x21635207648>]"
      ]
     },
     "execution_count": 115,
     "metadata": {},
     "output_type": "execute_result"
    },
    {
     "data": {
      "image/png": "[encoded data removed]",
      "text/plain": [
       "<Figure size 432x288 with 2 Axes>"
      ]
     },
     "metadata": {
      "needs_background": "light"
     },
     "output_type": "display_data"
    }
   ],
   "source": [
    "# Plot X and y using plt.scatter\n",
    "# Plot the model fit line using [x_min[0], x_max[0]], [y_min[0], y_max[0]]\n",
    "\n",
    "### BEGIN SOLUTION\n",
    "\n",
    "\n",
    "x_axis = np.arange(39309, len(X))\n",
    "ticks = [39309, 39675, 40039, 40406, 40770, 41136, 41501, 41866, 42230, 42597, 42962, 43327, 43692, 44056]\n",
    "dates = ['8/15/2007', '8/15/2008', '8/14/2009', '8/16/2010', '8/15/2011', '8/15/2012', '8/15/2013', '8/15/2014', '8/14/2015', '8/15/2016', '8/15/2017', '8/15/2018', '8/15/2019', '8/13/2020']\n",
    "plt.title(\"S&P500 2007-2020\")\n",
    "plt.xlabel(\"Date\")\n",
    "plt.ylabel(\"Value in $\")\n",
    "\n",
    "# plt.hlines(0, 0, x_lim, alpha=0.2)\n",
    "# plt.xlim(0, x_lim)\n",
    "# plt.ylim(-1.25, 1.25)\n",
    "plt.xticks(rotation=90)\n",
    "plt.scatter (X, y, c=data.value,)\n",
    "plt.annotate(texts,(39309,2750),fontsize=11,color=\"red\")\n",
    "plt.xticks(ticks, dates)\n",
    "clb = plt.colorbar()\n",
    "clb.set_label(\"Value in $\")\n",
    "plt.plot([x_min[0], x_max[0]], [y_min[0], y_max[0]], c='red')\n",
    "### END SOLUTION"
   ]
  },
  {
   "cell_type": "code",
   "execution_count": 93,
   "metadata": {},
   "outputs": [
    {
     "name": "stdout",
     "output_type": "stream",
     "text": [
      "Mean Squared Error (MSE): 48886.18508886344\n",
      "R-squared (R2 ): 0.8909468883284295\n"
     ]
    }
   ],
   "source": [
    "from sklearn.metrics import mean_squared_error, r2_score\n",
    "#Calculate mse and r2 to test the reliability of the model\n",
    "# Use our model to predict a value\n",
    "predicted = model.predict(X)\n",
    "\n",
    "# Score the prediction with mse and r2\n",
    "mse = mean_squared_error(y, predicted)\n",
    "r2 = r2_score(y, predicted)\n",
    "\n",
    "print(f\"Mean Squared Error (MSE): {mse}\")\n",
    "print(f\"R-squared (R2 ): {r2}\")"
   ]
  },
  {
   "cell_type": "code",
   "execution_count": 86,
   "metadata": {},
   "outputs": [
    {
     "data": {
      "text/plain": [
       "0.8909468883284295"
      ]
     },
     "execution_count": 86,
     "metadata": {},
     "output_type": "execute_result"
    }
   ],
   "source": [
    "# Overall Score for the model\n",
    "model.score(X, y)"
   ]
  },
  {
   "cell_type": "code",
   "execution_count": null,
   "metadata": {},
   "outputs": [],
   "source": []
  }
 ],
 "metadata": {
  "kernelspec": {
   "display_name": "Python 3",
   "language": "python",
   "name": "python3"
  },
  "language_info": {
   "codemirror_mode": {
    "name": "ipython",
    "version": 3
   },
   "file_extension": ".py",
   "mimetype": "text/x-python",
   "name": "python",
   "nbconvert_exporter": "python",
   "pygments_lexer": "ipython3",
   "version": "3.7.7"
  }
 },
 "nbformat": 4,
 "nbformat_minor": 4
}
